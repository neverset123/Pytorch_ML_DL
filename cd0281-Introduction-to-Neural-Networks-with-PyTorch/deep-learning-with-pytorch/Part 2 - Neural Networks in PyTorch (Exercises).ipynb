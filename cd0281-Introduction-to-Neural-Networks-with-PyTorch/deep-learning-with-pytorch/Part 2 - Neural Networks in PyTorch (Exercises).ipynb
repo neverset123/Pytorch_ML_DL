{
 "cells": [
  {
   "cell_type": "markdown",
   "metadata": {},
   "source": [
    "# Neural networks with PyTorch\n",
    "\n",
    "Deep learning networks tend to be massive with dozens or hundreds of layers, that's where the term \"deep\" comes from. You can build one of these deep networks using only weight matrices as we did in the previous notebook, but in general it's very cumbersome and difficult to implement. PyTorch has a nice module `nn` that provides a nice way to efficiently build large neural networks."
   ]
  },
  {
   "cell_type": "code",
   "execution_count": null,
   "metadata": {
    "collapsed": true
   },
   "outputs": [],
   "source": [
    "# Import necessary packages\n",
    "\n",
    "%matplotlib inline\n",
    "%config InlineBackend.figure_format = 'retina'\n",
    "\n",
    "import numpy as np\n",
    "import torch\n",
    "\n",
    "import helper\n",
    "\n",
    "import matplotlib.pyplot as plt"
   ]
  },
  {
   "cell_type": "markdown",
   "metadata": {},
   "source": [
    "\n",
    "Now we're going to build a larger network that can solve a (formerly) difficult problem, identifying text in an image. Here we'll use the MNIST dataset which consists of greyscale handwritten digits. Each image is 28x28 pixels, you can see a sample below\n",
    "\n",
    "<img src='assets/mnist.png'>\n",
    "\n",
    "Our goal is to build a neural network that can take one of these images and predict the digit in the image.\n",
    "\n",
    "First up, we need to get our dataset. This is provided through the `torchvision` package. The code below will download the MNIST dataset, then create training and test datasets for us. Don't worry too much about the details here, you'll learn more about this later."
   ]
  },
  {
   "cell_type": "code",
   "execution_count": null,
   "metadata": {},
   "outputs": [],
   "source": [
    "# The MNIST datasets are hosted on yann.lecun.com that has moved under CloudFlare protection\n",
    "# Run this script to enable the datasets download\n",
    "# Reference: https://github.com/pytorch/vision/issues/1938\n",
    "\n",
    "from six.moves import urllib\n",
    "opener = urllib.request.build_opener()\n",
    "opener.addheaders = [('User-agent', 'Mozilla/5.0')]\n",
    "urllib.request.install_opener(opener)"
   ]
  },
  {
   "cell_type": "code",
   "execution_count": 2,
   "metadata": {
    "collapsed": true
   },
   "outputs": [],
   "source": [
    "### Run this cell\n",
    "\n",
    "import torch\n",
    "from torchvision import datasets, transforms\n",
    "\n",
    "# Define a transform to normalize the data\n",
    "transform = transforms.Compose([transforms.ToTensor(),\n",
    "                              transforms.Normalize((0.5,), (0.5,)),\n",
    "                              ])\n",
    "\n",
    "# Download and load the training data\n",
    "trainset = datasets.MNIST('~/.pytorch/MNIST_data/', download=True, train=True, transform=transform)\n",
    "trainloader = torch.utils.data.DataLoader(trainset, batch_size=64, shuffle=True)"
   ]
  },
  {
   "cell_type": "markdown",
   "metadata": {},
   "source": [
    "We have the training data loaded into `trainloader` and we make that an iterator with `iter(trainloader)`. Later, we'll use this to loop through the dataset for training, like\n",
    "\n",
    "```python\n",
    "for image, label in trainloader:\n",
    "    ## do things with images and labels\n",
    "```\n",
    "\n",
    "You'll notice I created the `trainloader` with a batch size of 64, and `shuffle=True`. The batch size is the number of images we get in one iteration from the data loader and pass through our network, often called a *batch*. And `shuffle=True` tells it to shuffle the dataset every time we start going through the data loader again. But here I'm just grabbing the first batch so we can check out the data. We can see below that `images` is just a tensor with size `(64, 1, 28, 28)`. So, 64 images per batch, 1 color channel, and 28x28 images."
   ]
  },
  {
   "cell_type": "code",
   "execution_count": 4,
   "metadata": {
    "collapsed": true
   },
   "outputs": [
    {
     "name": "stdout",
     "output_type": "stream",
     "text": [
      "<class 'torch.Tensor'>\n",
      "torch.Size([64, 1, 28, 28])\n",
      "torch.Size([64])\n"
     ]
    }
   ],
   "source": [
    "dataiter = iter(trainloader)\n",
    "images, labels = next(dataiter)\n",
    "print(type(images))\n",
    "print(images.shape)\n",
    "print(labels.shape)"
   ]
  },
  {
   "cell_type": "markdown",
   "metadata": {},
   "source": [
    "This is what one of the images looks like. "
   ]
  },
  {
   "cell_type": "code",
   "execution_count": 6,
   "metadata": {
    "collapsed": true
   },
   "outputs": [
    {
     "data": {
      "image/png": "[encoded data removed]",
      "text/plain": [
       "<Figure size 640x480 with 1 Axes>"
      ]
     },
     "metadata": {},
     "output_type": "display_data"
    }
   ],
   "source": [
    "import matplotlib.pyplot as plt\n",
    "plt.imshow(images[1].numpy().squeeze(), cmap='Greys_r');"
   ]
  },
  {
   "cell_type": "markdown",
   "metadata": {},
   "source": [
    "First, let's try to build a simple network for this dataset using weight matrices and matrix multiplications. Then, we'll see how to do it using PyTorch's `nn` module which provides a much more convenient and powerful method for defining network architectures.\n",
    "\n",
    "The networks you've seen so far are called *fully-connected* or *dense* networks. Each unit in one layer is connected to each unit in the next layer. In fully-connected networks, the input to each layer must be a one-dimensional vector (which can be stacked into a 2D tensor as a batch of multiple examples). However, our images are 28x28 2D tensors, so we need to convert them into 1D vectors. Thinking about sizes, we need to convert the batch of images with shape `(64, 1, 28, 28)` to a have a shape of `(64, 784)`, 784 is 28 times 28. This is typically called *flattening*, we flattened the 2D images into 1D vectors.\n",
    "\n",
    "Previously you built a network with one output unit. Here we need 10 output units, one for each digit. We want our network to predict the digit shown in an image, so what we'll do is calculate probabilities that the image is of any one digit or class. This ends up being a discrete probability distribution over the classes (digits) that tells us the most likely class for the image. That means we need 10 output units for the 10 classes (digits). We'll see how to convert the network output into a probability distribution next.\n",
    "\n",
    "> **Exercise:** Flatten the batch of images `images`. Then build a multi-layer network with 784 input units, 256 hidden units, and 10 output units using random tensors for the weights and biases. For now, use a sigmoid activation for the hidden layer. Leave the output layer without an activation, we'll add one that gives us a probability distribution next."
   ]
  },
  {
   "cell_type": "code",
   "execution_count": 10,
   "metadata": {
    "collapsed": true
   },
   "outputs": [
    {
     "data": {
      "text/plain": [
       "tensor([[-3.2960e+00,  3.0880e+00, -2.0045e+01,  1.2174e+01,  1.4641e+01,\n",
       "         -8.1323e+00, -5.7587e+00,  6.9092e+00,  1.0305e+01,  3.4955e+00],\n",
       "        [ 8.3445e+00,  1.1998e+01, -6.9094e+00,  8.0460e+00,  9.2942e+00,\n",
       "          2.8904e+00,  1.2753e+01, -3.7224e-01,  1.3099e+01,  5.7237e+00],\n",
       "        [-2.2706e+00,  1.2021e+01, -2.4540e+01,  7.6983e+00,  1.4404e+01,\n",
       "         -5.3296e-01,  4.8184e+00,  1.1503e+01,  7.1125e+00,  6.7364e+00],\n",
       "        [ 2.9409e+00,  7.2025e+00, -1.8461e+01,  1.1991e+01,  1.0511e+01,\n",
       "         -4.4608e+00,  6.7497e+00,  3.4151e+00,  2.0350e+01,  8.3015e+00],\n",
       "        [ 1.1005e+01,  1.4877e+01, -2.1824e+00,  1.1848e+01,  5.8685e+00,\n",
       "          3.3689e+00,  6.4889e+00,  2.0561e+00, -4.9117e-02,  1.0552e+01],\n",
       "        [-5.0389e+00,  7.6878e+00, -9.5908e+00,  1.4671e+01,  1.3407e+01,\n",
       "          9.6849e-01,  2.3551e+00,  1.7848e-01,  4.4736e+00,  3.9925e+00],\n",
       "        [-7.6127e-01,  8.6826e+00, -1.4544e+01,  1.5439e+01,  7.7614e+00,\n",
       "         -1.7126e+00,  8.3188e+00,  6.1286e+00,  1.1975e+01,  2.1583e-01],\n",
       "        [ 4.9282e+00,  9.6701e+00, -6.2366e+00,  1.2975e+01,  9.4162e+00,\n",
       "         -3.4166e+00, -6.3387e-01, -5.9033e+00,  1.1174e+01,  1.0001e+01],\n",
       "        [-7.4760e+00,  1.3711e+01, -7.2044e+00,  1.3360e+01,  8.6398e+00,\n",
       "         -1.2604e+01,  7.9285e+00,  5.4424e+00,  2.0412e+01,  8.8766e+00],\n",
       "        [-4.2429e+00,  8.3143e+00, -9.2975e+00,  1.5365e+01,  2.1378e+01,\n",
       "          2.1834e+00,  5.2447e+00,  1.7701e+00,  6.7718e+00, -1.7921e+00],\n",
       "        [ 7.8064e+00,  1.4913e+01, -5.5922e+00,  8.4957e+00,  4.2596e+00,\n",
       "         -6.7302e+00,  9.3446e+00, -3.8490e+00,  8.3327e+00,  5.3500e+00],\n",
       "        [ 1.2102e+01,  1.6207e+01, -2.2900e+00,  1.1507e+01,  1.8159e+01,\n",
       "         -1.1130e+01,  8.3726e+00, -1.8865e-01,  9.0262e+00,  2.8961e+00],\n",
       "        [ 6.9839e+00,  1.5020e+01, -1.3755e+01,  1.1031e+01,  7.0432e+00,\n",
       "          3.2946e+00,  7.6890e+00, -1.0174e+00,  1.2979e+01,  2.0979e+01],\n",
       "        [ 2.8333e+00,  8.4052e+00, -1.4917e+01,  1.1057e+01,  1.7585e+00,\n",
       "          7.8681e-01,  1.4674e+01,  6.1065e-01,  1.7838e+01,  1.3263e+01],\n",
       "        [ 5.2674e+00,  8.9165e+00, -1.5203e+01,  3.4810e+00,  7.2506e+00,\n",
       "         -8.8430e+00,  4.7708e+00,  4.7742e+00,  1.8976e+01,  9.7518e+00],\n",
       "        [ 2.0564e+00,  7.2029e+00, -3.9316e+00,  9.9321e+00,  1.1894e+01,\n",
       "         -2.5264e+00,  4.1672e+00, -6.0846e+00,  1.2367e+01,  1.0250e+00],\n",
       "        [ 5.1134e+00,  1.9176e+01, -1.4730e+01,  6.3474e+00,  1.3440e+01,\n",
       "          8.6242e-01,  1.1070e+01, -2.7410e+00,  7.4555e+00,  1.1561e+01],\n",
       "        [-1.9751e-01,  1.5589e+01, -1.8527e+01,  2.4730e+01,  1.3398e+01,\n",
       "         -2.9099e+00,  1.1326e+01, -1.6598e+00,  8.4090e+00,  8.3605e+00],\n",
       "        [-2.3389e+00,  1.7586e+01, -1.5430e+01,  2.4423e+01,  1.9106e+01,\n",
       "         -1.1128e+01, -4.8938e+00,  3.7823e+00,  6.9292e+00,  2.5582e+00],\n",
       "        [ 7.1576e+00,  8.9044e+00, -1.1624e+01,  1.2775e+01,  1.2886e+01,\n",
       "         -1.3766e+01,  6.1696e+00,  3.2922e+00,  1.1496e+01,  1.3190e+01],\n",
       "        [ 2.6923e+00,  1.3876e+01, -1.4705e+01,  1.2114e+01,  1.8259e+01,\n",
       "         -7.3273e+00,  6.5446e+00,  2.5057e+00,  9.8401e+00,  1.0720e+01],\n",
       "        [ 5.1118e-01,  2.0254e+01, -7.7970e+00,  1.9362e+01,  1.2790e+01,\n",
       "         -1.4842e-01,  1.4491e+00,  2.7637e-01,  1.5823e+01,  2.7448e+00],\n",
       "        [-6.1733e-01,  7.2707e+00, -8.8339e+00,  9.0919e+00,  5.2754e+00,\n",
       "         -1.1086e+01, -1.7355e+00, -4.9967e+00,  1.1191e+01,  6.4724e+00],\n",
       "        [ 9.9414e+00,  4.3043e+00, -8.8652e+00,  1.1351e+01,  1.1498e+01,\n",
       "         -5.4121e+00,  3.4892e+00, -4.6023e+00,  1.5915e+01,  2.7416e+00],\n",
       "        [ 1.5006e+00, -8.5428e-01, -2.2726e+01,  1.4070e+01,  8.9817e+00,\n",
       "         -9.5232e+00,  2.4500e+00, -2.1271e+00,  6.4276e+00,  3.3442e+00],\n",
       "        [ 5.7702e+00,  1.3120e+01, -8.6120e+00,  1.5860e+01,  4.7861e+00,\n",
       "         -1.1804e+00,  5.6710e+00, -5.6040e+00,  1.5724e+01,  8.8949e+00],\n",
       "        [ 1.9198e+00,  1.5411e+01, -1.5584e+01,  1.6260e+01,  5.1150e+00,\n",
       "         -4.8077e+00,  1.0734e+01,  7.1066e+00,  1.4258e+01,  1.2651e+01],\n",
       "        [ 6.7703e+00,  6.1048e+00, -1.4294e+01,  1.3110e+01,  2.5923e+00,\n",
       "         -1.6938e+00,  6.5588e+00, -8.0355e+00,  2.0590e+01,  4.0733e+00],\n",
       "        [-7.6909e+00,  4.2997e+00, -1.5355e+01,  1.7412e+01,  1.2508e+01,\n",
       "         -3.2202e+00, -8.7532e-01, -3.1192e+00,  7.6511e+00,  2.0444e+00],\n",
       "        [-3.3920e+00,  7.2193e-01, -1.8662e+01,  1.3366e+01,  4.8815e+00,\n",
       "         -4.6363e+00,  1.1817e+01,  6.0395e+00,  2.5043e+01,  1.0635e+01],\n",
       "        [-6.4546e+00,  4.2844e+00, -1.6038e+01,  1.7891e+01,  1.6450e+01,\n",
       "         -6.0331e-01,  8.4531e+00, -1.1117e+00,  1.2723e+01, -1.7627e-02],\n",
       "        [ 7.2246e+00,  8.0838e+00, -1.7437e+01,  1.1965e+01,  1.7703e+01,\n",
       "         -8.5115e+00,  3.9979e+00,  4.8727e+00,  1.1176e+01,  7.3854e+00],\n",
       "        [ 1.6260e+00,  1.1274e+01, -2.5780e+00,  1.9919e+01,  9.7847e+00,\n",
       "         -7.0180e+00, -1.8562e+00, -3.3458e+00,  1.3717e+01,  6.6923e+00],\n",
       "        [ 5.7104e+00,  8.7554e+00, -1.6376e+01,  1.2648e+01,  4.5419e+00,\n",
       "         -1.0097e+00,  1.3811e+01,  3.9030e+00,  3.8835e+00,  1.2743e+01],\n",
       "        [ 1.4656e+00,  7.0867e-01, -8.0192e+00,  1.3841e+01,  5.3543e+00,\n",
       "          4.8448e+00,  1.7229e+00, -3.6756e+00,  1.2241e+01,  1.3549e+00],\n",
       "        [ 1.6293e+00,  1.6905e+01, -1.1680e+01,  1.5228e+01,  9.0719e+00,\n",
       "         -4.0101e+00,  1.4135e+00,  6.1421e+00,  1.3166e+01,  6.6707e+00],\n",
       "        [ 4.8859e+00,  7.6586e+00, -3.8017e-01,  1.5231e+01,  1.6860e+01,\n",
       "          3.5721e+00,  4.4817e-01, -1.2991e+00,  1.0551e+01,  9.2080e+00],\n",
       "        [-5.1808e+00,  9.0075e+00, -5.6626e+00,  1.8054e+01,  1.1962e+01,\n",
       "          7.1337e+00,  6.8478e-01, -2.7061e+00,  1.6717e+01,  7.9727e+00],\n",
       "        [ 4.2568e+00,  5.7495e+00, -7.2765e+00,  1.3577e+01,  1.4240e+01,\n",
       "          6.1064e+00, -1.2805e+00, -8.9221e-01,  1.0037e+01,  5.4661e+00],\n",
       "        [-1.7893e+00,  2.5974e+00, -1.3810e+01,  2.1597e+01,  1.7624e+01,\n",
       "          6.8553e+00, -3.2249e+00, -4.0588e+00,  9.9577e+00,  9.4731e+00],\n",
       "        [ 4.0396e+00,  1.8765e+01,  2.3722e+00,  1.8032e+01,  1.7530e+01,\n",
       "          3.5396e+00,  9.0723e-01, -1.1216e+00,  4.4290e+00, -3.3547e+00],\n",
       "        [ 5.8226e+00,  1.1147e+01, -1.5954e+01,  1.4164e+01,  2.2038e+01,\n",
       "         -1.0529e+01,  6.3986e+00,  5.0162e+00,  1.7868e+01,  1.2217e+01],\n",
       "        [ 7.1301e+00,  1.9026e+01, -9.0595e+00,  1.8372e+01,  1.1523e+01,\n",
       "         -3.3317e-01, -1.4120e+00,  1.4028e+00,  1.0090e+01,  3.9853e-01],\n",
       "        [ 2.5761e+00,  1.5059e+01, -1.1867e+01,  1.3871e+00,  1.2727e+01,\n",
       "         -7.4164e+00,  1.3921e+01, -1.4984e+00,  6.2163e+00,  1.5964e+01],\n",
       "        [ 4.3259e-01,  1.8356e+01, -5.3473e+00,  1.0151e+01,  2.9863e+00,\n",
       "          3.8715e+00, -1.2203e+01, -5.4482e+00,  8.3602e+00,  6.2753e+00],\n",
       "        [-3.5569e+00,  8.8453e+00,  1.2225e+00,  1.3741e+01,  1.0673e+01,\n",
       "          3.5395e-01, -2.6803e+00,  4.4974e-01,  1.2643e+01,  7.0096e+00],\n",
       "        [ 4.2363e+00,  9.3236e+00, -7.7471e+00,  1.5592e+01,  1.6511e+01,\n",
       "         -8.6753e+00,  6.9399e+00,  3.3249e+00,  1.2188e+01, -1.1441e+00],\n",
       "        [ 1.8747e+00,  7.3991e+00, -3.4796e+00,  1.0527e+01,  1.6614e+01,\n",
       "         -1.5798e+00,  7.4161e+00,  2.8652e+00,  1.2402e+01,  9.0976e+00],\n",
       "        [ 3.7678e+00,  8.0388e+00, -4.9465e+00,  1.5615e+01,  2.1627e+01,\n",
       "         -2.8982e+00, -1.2525e+00, -1.6542e+00,  4.8623e+00,  6.7056e+00],\n",
       "        [-1.4443e+00,  6.2252e+00, -1.2669e+01,  1.0015e+01,  6.8800e+00,\n",
       "         -9.3074e+00, -8.9409e-01,  1.3610e+00,  9.2411e+00,  2.0666e+00],\n",
       "        [ 4.4856e-02,  8.7248e+00, -1.4896e+01,  8.0585e+00,  1.3953e+01,\n",
       "         -3.6066e+00,  4.3085e+00,  5.8544e+00,  9.0578e+00,  1.3885e+01],\n",
       "        [ 3.0904e+00,  1.8075e+00, -9.4913e+00,  1.3773e+01,  3.8069e+00,\n",
       "         -3.2059e+00,  3.4947e+00, -5.3505e+00,  7.4166e+00,  5.9396e+00],\n",
       "        [-7.9250e-01,  9.2507e+00, -1.5172e+01,  1.5476e+01,  1.2621e+01,\n",
       "         -1.2247e+01,  8.7379e+00,  1.9133e+00,  9.9404e+00,  5.4856e+00],\n",
       "        [ 1.1461e+00,  6.6511e-01, -8.5856e+00,  1.5430e+01,  1.6424e+01,\n",
       "         -1.3264e+01,  8.0185e+00, -4.4416e+00,  1.4032e+01,  5.2037e+00],\n",
       "        [ 5.9290e+00,  8.9622e+00, -8.0483e+00,  5.1491e+00,  1.1052e+01,\n",
       "         -1.7966e+01,  1.5892e+01,  5.7019e+00,  1.5213e+01,  7.8181e+00],\n",
       "        [-4.4189e-01,  6.3432e+00, -1.5564e+01,  2.2346e+01,  1.5986e+01,\n",
       "         -9.7412e+00, -6.3097e+00, -4.2382e+00,  1.4525e+01,  7.8684e+00],\n",
       "        [ 6.5037e+00,  8.9086e+00, -6.5382e+00,  1.1422e+01,  1.5804e+01,\n",
       "         -5.6427e+00, -2.9852e-01, -2.1791e+00,  8.1856e+00,  9.8843e+00],\n",
       "        [ 1.5193e+00,  1.3212e+01, -1.0670e+01,  1.1887e+01,  1.7834e+01,\n",
       "          1.3194e+00, -5.4824e-01, -2.3690e+00,  1.4650e+01,  2.9557e+00],\n",
       "        [-7.9391e+00,  1.0562e+01, -2.4361e+01,  1.6433e+01,  1.2024e+01,\n",
       "         -1.4061e+00,  1.8159e+00,  3.6270e-01,  1.4351e+01,  4.9422e+00],\n",
       "        [-3.7082e+00,  2.6251e-01, -1.5427e+01,  1.2426e+01,  7.7566e+00,\n",
       "          1.3061e+01,  6.6245e+00,  5.3361e-01,  7.1688e+00,  2.2364e+00],\n",
       "        [ 5.2513e+00,  4.5631e+00, -2.0647e+01,  1.4125e+01,  7.7437e+00,\n",
       "         -7.3986e+00, -2.9160e+00,  1.0491e+00,  4.0649e+00,  3.8047e+00],\n",
       "        [ 5.5802e+00,  1.6565e+01, -6.2114e+00,  4.6556e+00,  1.1296e+01,\n",
       "          1.6840e+00,  1.6402e+00, -2.5378e+00,  7.2422e+00,  3.1448e-01],\n",
       "        [ 5.3369e+00,  6.8448e+00, -6.2898e+00,  2.1426e+01,  1.5028e+01,\n",
       "          4.4746e+00,  7.1553e+00, -2.2045e-03,  2.5271e+00,  3.3227e+00],\n",
       "        [-6.0014e+00,  8.6784e+00, -9.2900e+00,  1.3718e+01,  1.3253e+01,\n",
       "         -5.8705e+00,  1.0131e-01,  1.9337e+00,  6.0522e+00,  3.7699e+00]])"
      ]
     },
     "execution_count": 10,
     "metadata": {},
     "output_type": "execute_result"
    }
   ],
   "source": [
    "## Your solution\n",
    "def activation(x):\n",
    "    \"\"\" Sigmoid activation function \n",
    "    \n",
    "        Arguments\n",
    "        ---------\n",
    "        x: torch.Tensor\n",
    "    \"\"\"\n",
    "    return 1/(1+torch.exp(-x))\n",
    "\n",
    "# output of your network, should have shape (64,10)\n",
    "image = images.reshape(64, -1)\n",
    "n_input = image.shape[1]     # Number of input units, must match number of input features\n",
    "n_hidden = 256                  # Number of hidden units \n",
    "n_output = 10                    # Number of output units\n",
    "\n",
    "# Weights for inputs to hidden layer\n",
    "W1 = torch.randn(n_input, n_hidden)\n",
    "# Weights for hidden layer to output layer\n",
    "W2 = torch.randn(n_hidden, n_output)\n",
    "\n",
    "# and bias terms for hidden and output layers\n",
    "B1 = torch.randn((1, n_hidden))\n",
    "B2 = torch.randn((1, n_output))\n",
    "\n",
    "h= activation(torch.mm(image, W1)+B1)\n",
    "y=torch.mm(h, W2)+B2\n",
    "y"
   ]
  },
  {
   "cell_type": "markdown",
   "metadata": {},
   "source": [
    "Now we have 10 outputs for our network. We want to pass in an image to our network and get out a probability distribution over the classes that tells us the likely class(es) the image belongs to. Something that looks like this:\n",
    "<img src='assets/image_distribution.png' width=500px>\n",
    "\n",
    "Here we see that the probability for each class is roughly the same. This is representing an untrained network, it hasn't seen any data yet so it just returns a uniform distribution with equal probabilities for each class.\n",
    "\n",
    "To calculate this probability distribution, we often use the [**softmax** function](https://en.wikipedia.org/wiki/Softmax_function). Mathematically this looks like\n",
    "\n",
    "$$\n",
    "\\Large \\sigma(x_i) = \\cfrac{e^{x_i}}{\\sum_k^K{e^{x_k}}}\n",
    "$$\n",
    "\n",
    "What this does is squish each input $x_i$ between 0 and 1 and normalizes the values to give you a proper probability distribution where the probabilites sum up to one.\n",
    "\n",
    "> **Exercise:** Implement a function `softmax` that performs the softmax calculation and returns probability distributions for each example in the batch. Note that you'll need to pay attention to the shapes when doing this. If you have a tensor `a` with shape `(64, 10)` and a tensor `b` with shape `(64,)`, doing `a/b` will give you an error because PyTorch will try to do the division across the columns (called broadcasting) but you'll get a size mismatch. The way to think about this is for each of the 64 examples, you only want to divide by one value, the sum in the denominator. So you need `b` to have a shape of `(64, 1)`. This way PyTorch will divide the 10 values in each row of `a` by the one value in each row of `b`. Pay attention to how you take the sum as well. You'll need to define the `dim` keyword in `torch.sum`. Setting `dim=0` takes the sum across the rows while `dim=1` takes the sum across the columns."
   ]
  },
  {
   "cell_type": "code",
   "execution_count": 13,
   "metadata": {
    "collapsed": true
   },
   "outputs": [
    {
     "name": "stdout",
     "output_type": "stream",
     "text": [
      "torch.Size([64, 10])\n",
      "tensor([1.0000, 1.0000, 1.0000, 1.0000, 1.0000, 1.0000, 1.0000, 1.0000, 1.0000,\n",
      "        1.0000, 1.0000, 1.0000, 1.0000, 1.0000, 1.0000, 1.0000, 1.0000, 1.0000,\n",
      "        1.0000, 1.0000, 1.0000, 1.0000, 1.0000, 1.0000, 1.0000, 1.0000, 1.0000,\n",
      "        1.0000, 1.0000, 1.0000, 1.0000, 1.0000, 1.0000, 1.0000, 1.0000, 1.0000,\n",
      "        1.0000, 1.0000, 1.0000, 1.0000, 1.0000, 1.0000, 1.0000, 1.0000, 1.0000,\n",
      "        1.0000, 1.0000, 1.0000, 1.0000, 1.0000, 1.0000, 1.0000, 1.0000, 1.0000,\n",
      "        1.0000, 1.0000, 1.0000, 1.0000, 1.0000, 1.0000, 1.0000, 1.0000, 1.0000,\n",
      "        1.0000])\n"
     ]
    }
   ],
   "source": [
    "def softmax(x):\n",
    "    ## TODO: Implement the softmax function here\n",
    "    return torch.exp(x)/torch.sum(torch.exp(x), dim=1).reshape(-1,1)\n",
    "\n",
    "# Here, out should be the output of the network in the previous excercise with shape (64,10)\n",
    "probabilities = softmax(y)\n",
    "\n",
    "# Does it have the right shape? Should be (64, 10)\n",
    "print(probabilities.shape)\n",
    "# Does it sum to 1?\n",
    "print(probabilities.sum(dim=1))"
   ]
  },
  {
   "cell_type": "markdown",
   "metadata": {},
   "source": [
    "## Building networks with PyTorch\n",
    "\n",
    "PyTorch provides a module `nn` that makes building networks much simpler. Here I'll show you how to build the same one as above with 784 inputs, 256 hidden units, 10 output units and a softmax output."
   ]
  },
  {
   "cell_type": "code",
   "execution_count": 16,
   "metadata": {
    "collapsed": true
   },
   "outputs": [],
   "source": [
    "from torch import nn"
   ]
  },
  {
   "cell_type": "code",
   "execution_count": 17,
   "metadata": {
    "collapsed": true
   },
   "outputs": [],
   "source": [
    "class Network(nn.Module):\n",
    "    def __init__(self):\n",
    "        super().__init__()\n",
    "        \n",
    "        # Inputs to hidden layer linear transformation\n",
    "        self.hidden = nn.Linear(784, 256)\n",
    "        # Output layer, 10 units - one for each digit\n",
    "        self.output = nn.Linear(256, 10)\n",
    "        \n",
    "        # Define sigmoid activation and softmax output \n",
    "        self.sigmoid = nn.Sigmoid()\n",
    "        self.softmax = nn.Softmax(dim=1)\n",
    "        \n",
    "    def forward(self, x):\n",
    "        # Pass the input tensor through each of our operations\n",
    "        x = self.hidden(x)\n",
    "        x = self.sigmoid(x)\n",
    "        x = self.output(x)\n",
    "        x = self.softmax(x)\n",
    "        \n",
    "        return x"
   ]
  },
  {
   "cell_type": "markdown",
   "metadata": {},
   "source": [
    "Let's go through this bit by bit.\n",
    "\n",
    "```python\n",
    "class Network(nn.Module):\n",
    "```\n",
    "\n",
    "Here we're inheriting from `nn.Module`. Combined with `super().__init__()` this creates a class that tracks the architecture and provides a lot of useful methods and attributes. It is mandatory to inherit from `nn.Module` when you're creating a class for your network. The name of the class itself can be anything.\n",
    "\n",
    "```python\n",
    "self.hidden = nn.Linear(784, 256)\n",
    "```\n",
    "\n",
    "This line creates a module for a linear transformation, $x\\mathbf{W} + b$, with 784 inputs and 256 outputs and assigns it to `self.hidden`. The module automatically creates the weight and bias tensors which we'll use in the `forward` method. You can access the weight and bias tensors once the network (`net`) is created with `net.hidden.weight` and `net.hidden.bias`.\n",
    "\n",
    "```python\n",
    "self.output = nn.Linear(256, 10)\n",
    "```\n",
    "\n",
    "Similarly, this creates another linear transformation with 256 inputs and 10 outputs.\n",
    "\n",
    "```python\n",
    "self.sigmoid = nn.Sigmoid()\n",
    "self.softmax = nn.Softmax(dim=1)\n",
    "```\n",
    "\n",
    "Here I defined operations for the sigmoid activation and softmax output. Setting `dim=1` in `nn.Softmax(dim=1)` calculates softmax across the columns.\n",
    "\n",
    "```python\n",
    "def forward(self, x):\n",
    "```\n",
    "\n",
    "PyTorch networks created with `nn.Module` must have a `forward` method defined. It takes in a tensor `x` and passes it through the operations you defined in the `__init__` method.\n",
    "\n",
    "```python\n",
    "x = self.hidden(x)\n",
    "x = self.sigmoid(x)\n",
    "x = self.output(x)\n",
    "x = self.softmax(x)\n",
    "```\n",
    "\n",
    "Here the input tensor `x` is passed through each operation and reassigned to `x`. We can see that the input tensor goes through the hidden layer, then a sigmoid function, then the output layer, and finally the softmax function. It doesn't matter what you name the variables here, as long as the inputs and outputs of the operations match the network architecture you want to build. The order in which you define things in the `__init__` method doesn't matter, but you'll need to sequence the operations correctly in the `forward` method.\n",
    "\n",
    "Now we can create a `Network` object."
   ]
  },
  {
   "cell_type": "code",
   "execution_count": 18,
   "metadata": {
    "collapsed": true
   },
   "outputs": [
    {
     "data": {
      "text/plain": [
       "Network(\n",
       "  (hidden): Linear(in_features=784, out_features=256, bias=True)\n",
       "  (output): Linear(in_features=256, out_features=10, bias=True)\n",
       "  (sigmoid): Sigmoid()\n",
       "  (softmax): Softmax(dim=1)\n",
       ")"
      ]
     },
     "execution_count": 18,
     "metadata": {},
     "output_type": "execute_result"
    }
   ],
   "source": [
    "# Create the network and look at it's text representation\n",
    "model = Network()\n",
    "model"
   ]
  },
  {
   "cell_type": "markdown",
   "metadata": {},
   "source": [
    "You can define the network somewhat more concisely and clearly using the `torch.nn.functional` module. This is the most common way you'll see networks defined as many operations are simple element-wise functions. We normally import this module as `F`, `import torch.nn.functional as F`."
   ]
  },
  {
   "cell_type": "code",
   "execution_count": 19,
   "metadata": {
    "collapsed": true
   },
   "outputs": [],
   "source": [
    "import torch.nn.functional as F\n",
    "\n",
    "class Network(nn.Module):\n",
    "    def __init__(self):\n",
    "        super().__init__()\n",
    "        # Inputs to hidden layer linear transformation\n",
    "        self.hidden = nn.Linear(784, 256)\n",
    "        # Output layer, 10 units - one for each digit\n",
    "        self.output = nn.Linear(256, 10)\n",
    "        \n",
    "    def forward(self, x):\n",
    "        # Hidden layer with sigmoid activation\n",
    "        x = F.sigmoid(self.hidden(x))\n",
    "        # Output layer with softmax activation\n",
    "        x = F.softmax(self.output(x), dim=1)\n",
    "        \n",
    "        return x"
   ]
  },
  {
   "cell_type": "markdown",
   "metadata": {},
   "source": [
    "### Activation functions\n",
    "\n",
    "So far we've only been looking at the sigmoid activation function, but in general any function can be used as an activation function. The only requirement is that for a network to approximate a non-linear function, the activation functions must be non-linear. Here are a few more examples of common activation functions: Tanh (hyperbolic tangent), and ReLU (rectified linear unit).\n",
    "\n",
    "<img src=\"assets/activation.png\" width=700px>\n",
    "\n",
    "In practice, the ReLU function is used almost exclusively as the activation function for hidden layers."
   ]
  },
  {
   "cell_type": "markdown",
   "metadata": {},
   "source": [
    "### Your Turn to Build a Network\n",
    "\n",
    "<img src=\"assets/mlp_mnist.png\" width=600px>\n",
    "\n",
    "> **Exercise:** Create a network with 784 input units, a hidden layer with 128 units and a ReLU activation, then a hidden layer with 64 units and a ReLU activation, and finally an output layer with a softmax activation as shown above. You can use a ReLU activation with the `nn.ReLU` module or `F.relu` function.\n",
    "\n",
    "It's good practice to name your layers by their type of network, for instance 'fc' to represent a fully-connected layer. As you code your solution, use `fc1`, `fc2`, and `fc3` as your layer names."
   ]
  },
  {
   "cell_type": "code",
   "execution_count": 28,
   "metadata": {
    "collapsed": true,
    "scrolled": true
   },
   "outputs": [],
   "source": [
    "## Your solution here\n",
    "import torch.nn.functional as F\n",
    "\n",
    "class Model(nn.Module):\n",
    "    def __init__(self):\n",
    "        super().__init__()\n",
    "\n",
    "        self.fc1 = nn.Linear(784, 128)\n",
    "        self.fc2 = nn.Linear(128, 64)\n",
    "        self.fc3 = nn.Linear(64, 10)\n",
    "    \n",
    "    def forward(self, x):\n",
    "        x = F.relu(self.fc1(x))\n",
    "        x = F.relu(self.fc2(x))\n",
    "        return F.softmax(self.fc3(x))"
   ]
  },
  {
   "cell_type": "markdown",
   "metadata": {},
   "source": [
    "### Initializing weights and biases\n",
    "\n",
    "The weights and such are automatically initialized for you, but it's possible to customize how they are initialized. The weights and biases are tensors attached to the layer you defined, you can get them with `model.fc1.weight` for instance."
   ]
  },
  {
   "cell_type": "code",
   "execution_count": 30,
   "metadata": {
    "collapsed": true
   },
   "outputs": [
    {
     "name": "stdout",
     "output_type": "stream",
     "text": [
      "Parameter containing:\n",
      "tensor([[ 6.5934e-03,  1.4246e-02,  3.1336e-02,  ...,  1.2571e-02,\n",
      "         -2.0058e-02, -1.7909e-02],\n",
      "        [-7.7800e-03, -1.7515e-02,  1.4646e-02,  ..., -1.9351e-02,\n",
      "          4.6165e-03,  2.7139e-02],\n",
      "        [-1.8339e-02,  1.6960e-02, -1.9473e-02,  ...,  1.7294e-02,\n",
      "         -1.3048e-02,  1.9689e-02],\n",
      "        ...,\n",
      "        [ 2.5390e-02, -2.5551e-02,  2.2743e-02,  ...,  1.0509e-02,\n",
      "         -6.8862e-03, -3.2164e-02],\n",
      "        [ 2.1748e-02, -1.2879e-03, -3.1615e-02,  ...,  9.7186e-03,\n",
      "          4.8399e-03, -2.9796e-02],\n",
      "        [ 1.1851e-02,  2.1987e-02, -7.1374e-03,  ..., -5.0298e-03,\n",
      "          1.7715e-05, -2.1763e-02]], requires_grad=True)\n",
      "Parameter containing:\n",
      "tensor([-3.4972e-02,  1.9945e-02,  1.1934e-03,  3.2857e-02,  2.7657e-02,\n",
      "        -2.1776e-02, -7.8509e-03, -3.2449e-02,  1.5979e-02, -4.1128e-03,\n",
      "        -2.7004e-02,  2.1375e-02,  2.6917e-02, -1.8490e-02, -7.4977e-03,\n",
      "         1.9272e-03,  1.6171e-02,  3.1562e-02,  1.2832e-02, -3.4100e-03,\n",
      "        -1.8626e-02, -1.0137e-02,  2.5690e-02,  1.1502e-02, -3.9787e-03,\n",
      "         2.2078e-02,  1.6221e-02,  2.4083e-02, -1.1631e-02, -4.9091e-04,\n",
      "         2.7889e-02,  1.0412e-02, -2.1987e-03,  1.1332e-02,  3.0394e-02,\n",
      "         2.4589e-02, -5.1176e-03,  1.1802e-05,  3.3281e-02, -2.5128e-02,\n",
      "        -3.1612e-02,  1.6181e-02, -6.2354e-03,  1.9742e-02,  9.5020e-03,\n",
      "        -2.9294e-02, -3.5281e-02, -3.0997e-02, -3.7513e-03,  3.1233e-02,\n",
      "        -2.6388e-02, -3.2447e-02,  3.2659e-02, -1.6265e-02,  3.3056e-02,\n",
      "        -5.9854e-03,  3.5465e-02, -2.2711e-02,  1.7566e-02,  2.9347e-02,\n",
      "        -3.2966e-02, -9.9507e-04,  3.1826e-02,  3.8546e-03, -1.3703e-02,\n",
      "         2.5389e-02, -1.0521e-02,  1.8465e-02,  1.1919e-02,  7.0879e-03,\n",
      "        -1.3636e-02,  1.7540e-02,  2.5626e-02, -9.2311e-03, -2.4022e-03,\n",
      "        -3.1052e-02,  1.2132e-02, -2.8891e-03, -1.6561e-02, -1.9392e-02,\n",
      "        -8.9212e-03, -3.0481e-02,  3.0252e-02,  2.5725e-02,  1.9724e-02,\n",
      "         2.9687e-02,  3.5297e-02,  1.4398e-02, -5.7368e-03, -2.6797e-02,\n",
      "         2.3177e-02,  2.7291e-02, -2.8115e-02, -2.2134e-02,  8.8527e-03,\n",
      "         1.0096e-02, -2.9961e-02,  4.8779e-03, -1.5260e-02, -1.1577e-02,\n",
      "        -2.6796e-02,  2.9053e-02,  3.3003e-02, -2.6071e-04, -1.2051e-02,\n",
      "         3.1100e-02, -6.1819e-03, -6.1339e-03,  1.7292e-02, -3.5312e-02,\n",
      "         2.5625e-02,  3.1245e-02,  2.2365e-05, -2.0212e-02,  1.0299e-02,\n",
      "         1.0016e-02,  6.2656e-03,  1.9860e-03,  3.0375e-02, -7.4658e-03,\n",
      "        -2.1567e-02, -3.1800e-02,  2.4862e-02, -2.2825e-02, -3.5593e-02,\n",
      "         1.9401e-02, -1.9312e-02, -2.9147e-02], requires_grad=True)\n"
     ]
    },
    {
     "data": {
      "text/plain": [
       "Model(\n",
       "  (fc1): Linear(in_features=784, out_features=128, bias=True)\n",
       "  (fc2): Linear(in_features=128, out_features=64, bias=True)\n",
       "  (fc3): Linear(in_features=64, out_features=10, bias=True)\n",
       ")"
      ]
     },
     "execution_count": 30,
     "metadata": {},
     "output_type": "execute_result"
    }
   ],
   "source": [
    "model = Model()\n",
    "print(model.fc1.weight)\n",
    "print(model.fc1.bias)\n",
    "model"
   ]
  },
  {
   "cell_type": "markdown",
   "metadata": {},
   "source": [
    "For custom initialization, we want to modify these tensors in place. These are actually autograd *Variables*, so we need to get back the actual tensors with `model.fc1.weight.data`. Once we have the tensors, we can fill them with zeros (for biases) or random normal values."
   ]
  },
  {
   "cell_type": "code",
   "execution_count": 31,
   "metadata": {
    "collapsed": true
   },
   "outputs": [
    {
     "data": {
      "text/plain": [
       "tensor([0., 0., 0., 0., 0., 0., 0., 0., 0., 0., 0., 0., 0., 0., 0., 0., 0., 0., 0., 0., 0., 0., 0., 0.,\n",
       "        0., 0., 0., 0., 0., 0., 0., 0., 0., 0., 0., 0., 0., 0., 0., 0., 0., 0., 0., 0., 0., 0., 0., 0.,\n",
       "        0., 0., 0., 0., 0., 0., 0., 0., 0., 0., 0., 0., 0., 0., 0., 0., 0., 0., 0., 0., 0., 0., 0., 0.,\n",
       "        0., 0., 0., 0., 0., 0., 0., 0., 0., 0., 0., 0., 0., 0., 0., 0., 0., 0., 0., 0., 0., 0., 0., 0.,\n",
       "        0., 0., 0., 0., 0., 0., 0., 0., 0., 0., 0., 0., 0., 0., 0., 0., 0., 0., 0., 0., 0., 0., 0., 0.,\n",
       "        0., 0., 0., 0., 0., 0., 0., 0.])"
      ]
     },
     "execution_count": 31,
     "metadata": {},
     "output_type": "execute_result"
    }
   ],
   "source": [
    "# Set biases to all zeros\n",
    "model.fc1.bias.data.fill_(0)"
   ]
  },
  {
   "cell_type": "code",
   "execution_count": 32,
   "metadata": {
    "collapsed": true
   },
   "outputs": [
    {
     "data": {
      "text/plain": [
       "tensor([[-0.0046, -0.0199,  0.0077,  ..., -0.0040, -0.0003,  0.0120],\n",
       "        [ 0.0198,  0.0002,  0.0113,  ..., -0.0080,  0.0008, -0.0018],\n",
       "        [ 0.0118,  0.0051,  0.0157,  ...,  0.0031,  0.0148, -0.0076],\n",
       "        ...,\n",
       "        [ 0.0108,  0.0030, -0.0043,  ...,  0.0087,  0.0060,  0.0118],\n",
       "        [-0.0037, -0.0029, -0.0007,  ..., -0.0004,  0.0022, -0.0109],\n",
       "        [ 0.0100, -0.0040,  0.0126,  ..., -0.0207,  0.0116,  0.0043]])"
      ]
     },
     "execution_count": 32,
     "metadata": {},
     "output_type": "execute_result"
    }
   ],
   "source": [
    "# sample from random normal with standard dev = 0.01\n",
    "model.fc1.weight.data.normal_(std=0.01)"
   ]
  },
  {
   "cell_type": "markdown",
   "metadata": {},
   "source": [
    "### Forward pass\n",
    "\n",
    "Now that we have a network, let's see what happens when we pass in an image."
   ]
  },
  {
   "cell_type": "code",
   "execution_count": 35,
   "metadata": {
    "collapsed": true
   },
   "outputs": [
    {
     "name": "stderr",
     "output_type": "stream",
     "text": [
      "/tmp/ipykernel_3659193/682431619.py:15: UserWarning: Implicit dimension choice for softmax has been deprecated. Change the call to include dim=X as an argument.\n",
      "  return F.softmax(self.fc3(x))\n"
     ]
    },
    {
     "data": {
      "image/png": "[encoded data removed]",
      "text/plain": [
       "<Figure size 600x900 with 2 Axes>"
      ]
     },
     "metadata": {},
     "output_type": "display_data"
    }
   ],
   "source": [
    "import helper\n",
    "# Grab some data \n",
    "dataiter = iter(trainloader)\n",
    "images, labels = next(dataiter)\n",
    "\n",
    "# Resize images into a 1D vector, new shape is (batch size, color channels, image pixels) \n",
    "images.resize_(64, 1, 784)\n",
    "# or images.resize_(images.shape[0], 1, 784) to automatically get batch size\n",
    "\n",
    "# Forward pass through the network\n",
    "img_idx = 0\n",
    "ps = model.forward(images[img_idx,:])\n",
    "\n",
    "img = images[img_idx]\n",
    "helper.view_classify(img.view(1, 28, 28), ps)"
   ]
  },
  {
   "cell_type": "markdown",
   "metadata": {},
   "source": [
    "As you can see above, our network has basically no idea what this digit is. It's because we haven't trained it yet, all the weights are random!\n",
    "\n",
    "### Using `nn.Sequential`\n",
    "\n",
    "PyTorch provides a convenient way to build networks like this where a tensor is passed sequentially through operations, `nn.Sequential` ([documentation](https://pytorch.org/docs/master/nn.html#torch.nn.Sequential)). Using this to build the equivalent network:"
   ]
  },
  {
   "cell_type": "code",
   "execution_count": 36,
   "metadata": {
    "collapsed": true
   },
   "outputs": [
    {
     "name": "stdout",
     "output_type": "stream",
     "text": [
      "Sequential(\n",
      "  (0): Linear(in_features=784, out_features=128, bias=True)\n",
      "  (1): ReLU()\n",
      "  (2): Linear(in_features=128, out_features=64, bias=True)\n",
      "  (3): ReLU()\n",
      "  (4): Linear(in_features=64, out_features=10, bias=True)\n",
      "  (5): Softmax(dim=1)\n",
      ")\n"
     ]
    },
    {
     "data": {
      "image/png": "[encoded data removed]",
      "text/plain": [
       "<Figure size 600x900 with 2 Axes>"
      ]
     },
     "metadata": {},
     "output_type": "display_data"
    }
   ],
   "source": [
    "# Hyperparameters for our network\n",
    "input_size = 784\n",
    "hidden_sizes = [128, 64]\n",
    "output_size = 10\n",
    "\n",
    "# Build a feed-forward network\n",
    "model = nn.Sequential(nn.Linear(input_size, hidden_sizes[0]),\n",
    "                      nn.ReLU(),\n",
    "                      nn.Linear(hidden_sizes[0], hidden_sizes[1]),\n",
    "                      nn.ReLU(),\n",
    "                      nn.Linear(hidden_sizes[1], output_size),\n",
    "                      nn.Softmax(dim=1))\n",
    "print(model)\n",
    "\n",
    "# Forward pass through the network and display output\n",
    "images, labels = next(iter(trainloader))\n",
    "images.resize_(images.shape[0], 1, 784)\n",
    "ps = model.forward(images[0,:])\n",
    "helper.view_classify(images[0].view(1, 28, 28), ps)"
   ]
  },
  {
   "cell_type": "markdown",
   "metadata": {},
   "source": [
    "Here our model is the same as before: 784 input units, a hidden layer with 128 units, ReLU activation, 64 unit hidden layer, another ReLU, then the output layer with 10 units, and the softmax output.\n",
    "\n",
    "The operations are available by passing in the appropriate index. For example, if you want to get first Linear operation and look at the weights, you'd use `model[0]`."
   ]
  },
  {
   "cell_type": "code",
   "execution_count": 37,
   "metadata": {
    "collapsed": true
   },
   "outputs": [
    {
     "name": "stdout",
     "output_type": "stream",
     "text": [
      "Linear(in_features=784, out_features=128, bias=True)\n"
     ]
    },
    {
     "data": {
      "text/plain": [
       "Parameter containing:\n",
       "tensor([[ 0.0019,  0.0039,  0.0248,  ...,  0.0072,  0.0302,  0.0339],\n",
       "        [-0.0012, -0.0120, -0.0166,  ...,  0.0017,  0.0115, -0.0017],\n",
       "        [ 0.0293,  0.0025, -0.0152,  ..., -0.0277,  0.0054,  0.0330],\n",
       "        ...,\n",
       "        [-0.0131, -0.0064, -0.0082,  ..., -0.0314,  0.0146, -0.0244],\n",
       "        [ 0.0061, -0.0227, -0.0148,  ...,  0.0147, -0.0150,  0.0004],\n",
       "        [ 0.0131,  0.0004, -0.0263,  ...,  0.0060, -0.0229,  0.0266]],\n",
       "       requires_grad=True)"
      ]
     },
     "execution_count": 37,
     "metadata": {},
     "output_type": "execute_result"
    }
   ],
   "source": [
    "print(model[0])\n",
    "model[0].weight"
   ]
  },
  {
   "cell_type": "markdown",
   "metadata": {},
   "source": [
    "You can also pass in an `OrderedDict` to name the individual layers and operations, instead of using incremental integers. Note that dictionary keys must be unique, so _each operation must have a different name_."
   ]
  },
  {
   "cell_type": "code",
   "execution_count": 38,
   "metadata": {
    "collapsed": true
   },
   "outputs": [
    {
     "data": {
      "text/plain": [
       "Sequential(\n",
       "  (fc1): Linear(in_features=784, out_features=128, bias=True)\n",
       "  (relu1): ReLU()\n",
       "  (fc2): Linear(in_features=128, out_features=64, bias=True)\n",
       "  (relu2): ReLU()\n",
       "  (output): Linear(in_features=64, out_features=10, bias=True)\n",
       "  (softmax): Softmax(dim=1)\n",
       ")"
      ]
     },
     "execution_count": 38,
     "metadata": {},
     "output_type": "execute_result"
    }
   ],
   "source": [
    "from collections import OrderedDict\n",
    "model = nn.Sequential(OrderedDict([\n",
    "                      ('fc1', nn.Linear(input_size, hidden_sizes[0])),\n",
    "                      ('relu1', nn.ReLU()),\n",
    "                      ('fc2', nn.Linear(hidden_sizes[0], hidden_sizes[1])),\n",
    "                      ('relu2', nn.ReLU()),\n",
    "                      ('output', nn.Linear(hidden_sizes[1], output_size)),\n",
    "                      ('softmax', nn.Softmax(dim=1))]))\n",
    "model"
   ]
  },
  {
   "cell_type": "markdown",
   "metadata": {},
   "source": [
    "Now you can access layers either by integer or the name"
   ]
  },
  {
   "cell_type": "code",
   "execution_count": 39,
   "metadata": {
    "collapsed": true
   },
   "outputs": [
    {
     "name": "stdout",
     "output_type": "stream",
     "text": [
      "Linear(in_features=784, out_features=128, bias=True)\n",
      "Linear(in_features=784, out_features=128, bias=True)\n"
     ]
    }
   ],
   "source": [
    "print(model[0])\n",
    "print(model.fc1)"
   ]
  },
  {
   "cell_type": "markdown",
   "metadata": {},
   "source": [
    "In the next notebook, we'll see how we can train a neural network to accuractly predict the numbers appearing in the MNIST images."
   ]
  }
 ],
 "metadata": {
  "kernelspec": {
   "display_name": "Python [default]",
   "language": "python",
   "name": "python3"
  },
  "language_info": {
   "codemirror_mode": {
    "name": "ipython",
    "version": 3
   },
   "file_extension": ".py",
   "mimetype": "text/x-python",
   "name": "python",
   "nbconvert_exporter": "python",
   "pygments_lexer": "ipython3",
   "version": "3.8.16"
  }
 },
 "nbformat": 4,
 "nbformat_minor": 2
}
